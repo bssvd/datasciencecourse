{
 "cells": [
  {
   "cell_type": "markdown",
   "metadata": {},
   "source": [
    "## Задача: сравнение предложений\n",
    "\n",
    "Дан набор предложений, скопированных из Википедии. Каждое из них имеет \"кошачью тему\" в одном из трех смыслов:\n",
    "\n",
    "кошки (животные)\n",
    "UNIX-утилита cat для вывода содержимого файлов\n",
    "версии операционной системы OS X, названные в честь семейства кошачьих\n",
    "\n",
    "**Задача** — найти два предложения, которые ближе всего по смыслу к расположенному в самой первой строке. В качестве меры близости по смыслу мы будем использовать косинусное расстояние."
   ]
  },
  {
   "cell_type": "code",
   "execution_count": 3,
   "metadata": {
    "scrolled": false
   },
   "outputs": [
    {
     "name": "stdout",
     "output_type": "stream",
     "text": [
      "[['in', 'comparison', 'to', 'dogs', '', 'cats', 'have', 'not', 'undergone', 'major', 'changes', 'during', 'the', 'domestication', 'process', '', ''], ['as', 'cat', 'simply', 'catenates', 'streams', 'of', 'bytes', '', 'it', 'can', 'be', 'also', 'used', 'to', 'concatenate', 'binary', 'files', '', 'where', 'it', 'will', 'just', 'concatenate', 'sequence', 'of', 'bytes', '', ''], ['a', 'common', 'interactive', 'use', 'of', 'cat', 'for', 'a', 'single', 'file', 'is', 'to', 'output', 'the', 'content', 'of', 'a', 'file', 'to', 'standard', 'output', '', ''], ['cats', 'can', 'hear', 'sounds', 'too', 'faint', 'or', 'too', 'high', 'in', 'frequency', 'for', 'human', 'ears', '', 'such', 'as', 'those', 'made', 'by', 'mice', 'and', 'other', 'small', 'animals', '', ''], ['in', 'one', '', 'people', 'deliberately', 'tamed', 'cats', 'in', 'a', 'process', 'of', 'artificial', 'selection', '', 'as', 'they', 'were', 'useful', 'predators', 'of', 'vermin', '', ''], ['the', 'domesticated', 'cat', 'and', 'its', 'closest', 'wild', 'ancestor', 'are', 'both', 'diploid', 'organisms', 'that', 'possess', '', '', '', 'chromosomes', 'and', 'roughly', '', '', '', '', '', '', '', 'genes', '', ''], ['domestic', 'cats', 'are', 'similar', 'in', 'size', 'to', 'the', 'other', 'members', 'of', 'the', 'genus', 'felis', '', 'typically', 'weighing', 'between', '', '', 'and', '', '', 'kg', '', '', '', '', '', 'and', '', '', '', '', '', 'lb', '', '', ''], ['however', '', 'if', 'the', 'output', 'is', 'piped', 'or', 'redirected', '', 'cat', 'is', 'unnecessary', '', ''], ['cat', 'with', 'one', 'named', 'file', 'is', 'safer', 'where', 'human', 'error', 'is', 'a', 'concern', '', '', 'one', 'wrong', 'use', 'of', 'the', 'default', 'redirection', 'symbol', '', '', '', '', 'instead', 'of', '', '', '', '', '', 'often', 'adjacent', 'on', 'keyboards', '', 'may', 'permanently', 'delete', 'the', 'file', 'you', 'were', 'just', 'needing', 'to', 'read', '', ''], ['in', 'terms', 'of', 'legibility', '', 'a', 'sequence', 'of', 'commands', 'starting', 'with', 'cat', 'and', 'connected', 'by', 'pipes', 'has', 'a', 'clear', 'left', 'to', 'right', 'flow', 'of', 'information', '', ''], ['cat', 'command', 'is', 'one', 'of', 'the', 'basic', 'commands', 'that', 'you', 'learned', 'when', 'you', 'started', 'in', 'the', 'unix', '', '', 'linux', 'world', '', ''], ['using', 'cat', 'command', '', 'the', 'lines', 'received', 'from', 'stdin', 'can', 'be', 'redirected', 'to', 'a', 'new', 'file', 'using', 'redirection', 'symbols', '', ''], ['when', 'you', 'type', 'simply', 'cat', 'command', 'without', 'any', 'arguments', '', 'it', 'just', 'receives', 'the', 'stdin', 'content', 'and', 'displays', 'it', 'in', 'the', 'stdout', '', ''], ['leopard', 'was', 'released', 'on', 'october', '', '', '', '', '', '', '', '', '', 'as', 'the', 'successor', 'of', 'tiger', '', 'version', '', '', '', '', '', '', '', 'and', 'is', 'available', 'in', 'two', 'editions', '', ''], ['according', 'to', 'apple', '', 'leopard', 'contains', 'over', '', '', '', '', 'changes', 'and', 'enhancements', 'over', 'its', 'predecessor', '', 'mac', 'os', 'x', 'tiger', '', ''], ['as', 'of', 'mid', '', '', '', '', '', '', 'some', 'apple', 'computers', 'have', 'firmware', 'factory', 'installed', 'which', 'will', 'no', 'longer', 'allow', 'installation', 'of', 'mac', 'os', 'x', 'leopard', '', ''], ['since', 'apple', 'moved', 'to', 'using', 'intel', 'processors', 'in', 'their', 'computers', '', 'the', 'osx', '', '', 'community', 'has', 'developed', 'and', 'now', 'also', 'allows', 'mac', 'os', 'x', 'tiger', 'and', 'later', 'releases', 'to', 'be', 'installed', 'on', 'non', 'apple', 'x', '', '', 'based', 'computers', '', ''], ['os', 'x', 'mountain', 'lion', 'was', 'released', 'on', 'july', '', '', '', '', '', '', '', '', '', 'for', 'purchase', 'and', 'download', 'through', 'apple', 's', 'mac', 'app', 'store', '', 'as', 'part', 'of', 'a', 'switch', 'to', 'releasing', 'os', 'x', 'versions', 'online', 'and', 'every', 'year', '', ''], ['apple', 'has', 'released', 'a', 'small', 'patch', 'for', 'the', 'three', 'most', 'recent', 'versions', 'of', 'safari', 'running', 'on', 'os', 'x', 'yosemite', '', 'mavericks', '', 'and', 'mountain', 'lion', '', ''], ['the', 'mountain', 'lion', 'release', 'marks', 'the', 'second', 'time', 'apple', 'has', 'offered', 'an', 'incremental', 'upgrade', '', 'rather', 'than', 'releasing', 'a', 'new', 'cat', 'entirely', '', ''], ['mac', 'os', 'x', 'mountain', 'lion', 'installs', 'in', 'place', '', 'so', 'you', 'won', 't', 'need', 'to', 'create', 'a', 'separate', 'disk', 'or', 'run', 'the', 'installation', 'off', 'an', 'external', 'drive', '', ''], ['the', 'fifth', 'major', 'update', 'to', 'mac', 'os', 'x', '', 'leopard', '', 'contains', 'such', 'a', 'mountain', 'of', 'features', '', '', 'more', 'than', '', '', '', '', 'by', 'apple', 's', 'count', '']]\n"
     ]
    }
   ],
   "source": [
    "import numpy as np\n",
    "import re\n",
    "import pandas as pd\n",
    "import scipy.spatial.distance\n",
    "#f = open('sentences.txt')\n",
    "#f.readlines()\n",
    "with open('sentences.txt') as file:\n",
    "    text = file.readlines()\n",
    "#print (text)\n",
    "l = []\n",
    "for line in text:\n",
    "    x= line.lower()\n",
    "    s =re.split('[^a-z]', x)\n",
    "    #print(s)\n",
    "    l.append(s)\n",
    "    \n",
    "v=[]\n",
    "for i in l:\n",
    "    if type(i) is list:\n",
    "        v.extend(i)\n",
    "    else:\n",
    "        v.append(i)\n",
    "print (l)"
   ]
  },
  {
   "cell_type": "code",
   "execution_count": 8,
   "metadata": {},
   "outputs": [
    {
     "name": "stdout",
     "output_type": "stream",
     "text": [
      "22 254\n",
      "{'run', 'mice', 'released', 'chromosomes', 'where', 'when', 'which', 'adjacent', 'terms', 'roughly', 'update', 'too', 'community', 'online', 'comparison', 'release', 'linux', 'small', 'possess', 'may', 'concatenate', 'some', 'contains', 'made', 'streams', 'typically', 'disk', 'features', 'create', 'ears', 'switch', 'allows', 'often', 'off', 'arguments', 'most', 'installs', 'stdin', 'single', 't', 'animals', 'external', 'lb', 'permanently', 'any', 'fifth', 'major', 'such', 'used', 'recent', 'legibility', 'domesticated', 'kg', 'basic', 'have', 'versions', 'mavericks', 'not', 'learned', 'domestic', 'world', 'high', 'for', 'with', 'x', 'installed', 'needing', 'interactive', 'during', 'leopard', 'mid', 'members', 'releasing', 'starting', 'useful', 'started', 'allow', 'can', 'separate', 'cat', 'size', 'predators', 'predecessor', 'now', 'developed', 'were', 'diploid', 'successor', 'one', 'they', 'other', 'received', 'hear', 'genes', 'time', 'it', 'wild', 'was', 'purchase', 'osx', 'firmware', 'wrong', 'sequence', 'selection', 'right', 's', 'as', 'sounds', 'undergone', 'receives', 'domestication', 'file', 'frequency', 'commands', 'displays', 'deliberately', 'redirected', 'delete', 'pipes', 'files', 'their', 'later', 'an', 'output', 'need', 'no', 'entirely', 'lion', 'new', 'has', 'redirection', 'read', 'from', 'process', 'error', 'so', 'you', 'information', 'closest', 'named', 'without', 'july', 'than', 'three', 'just', 'version', 'mountain', 'second', 'the', 'intel', 'binary', 'unix', 'ancestor', 'moved', 'drive', 'symbol', 'clear', 'be', 'cats', 'type', 'according', 'non', 'won', 'unnecessary', 'genus', 'more', 'dogs', 'if', 'os', 'between', 'simply', 'through', 'use', 'tiger', 'part', 'left', 'changes', 'however', 'organisms', 'tamed', 'keyboards', 'safer', 'offered', 'vermin', 'catenates', 'common', 'mac', 'flow', 'factory', 'similar', 'connected', 'lines', 'store', 'editions', 'over', 'concern', 'its', 'also', 'apple', 'or', 'people', 'releases', 'marks', 'those', 'patch', 'rather', 'that', 'installation', 'to', 'piped', 'by', 'are', 'app', 'will', 'weighing', 'bytes', 'based', 'running', 'is', 'standard', 'human', 'upgrade', 'content', 'since', 'enhancements', 'a', 'artificial', 'using', 'processors', 'default', 'and', 'command', 'stdout', 'every', 'faint', 'count', 'both', 'october', 'safari', 'instead', 'symbols', 'longer', 'two', 'of', 'yosemite', 'download', 'available', 'computers', 'on', 'year', 'place', 'in', 'felis', 'incremental'}\n"
     ]
    }
   ],
   "source": [
    "bp = [i for i in v if i]\n",
    "mn = set(bp)\n",
    "d = len(mn)\n",
    "n = len(text)\n",
    "print (n,d)\n",
    "print (mn)"
   ]
  },
  {
   "cell_type": "code",
   "execution_count": 71,
   "metadata": {},
   "outputs": [
    {
     "name": "stdout",
     "output_type": "stream",
     "text": [
      "(22, 254)\n",
      "[[0 0 0 ... 1 0 0]\n",
      " [0 0 0 ... 0 0 0]\n",
      " [0 0 0 ... 0 0 0]\n",
      " ...\n",
      " [0 0 0 ... 0 0 1]\n",
      " [1 0 0 ... 1 0 0]\n",
      " [0 0 0 ... 0 0 0]]\n",
      "[0 0 0 0 0 0 0 0 0 0 0 0 0 0 1 0 0 0 0 0 0 0 0 0 0 0 0 0 0 0 0 0 0 0 0 0 0\n",
      " 0 0 0 0 0 0 0 0 0 1 0 0 0 0 0 0 0 1 0 0 1 0 0 0 0 0 0 0 0 0 0 1 0 0 0 0 0\n",
      " 0 0 0 0 0 0 0 0 0 0 0 0 0 0 0 0 0 0 0 0 0 0 0 0 0 0 0 0 0 0 0 0 0 0 1 0 1\n",
      " 0 0 0 0 0 0 0 0 0 0 0 0 0 0 0 0 0 0 0 0 0 0 1 0 0 0 0 0 0 0 0 0 0 0 0 0 0\n",
      " 1 0 0 0 0 0 0 0 0 0 1 0 0 0 0 0 0 0 1 0 0 0 0 0 0 0 0 0 1 0 0 0 0 0 0 0 0\n",
      " 0 0 0 0 0 0 0 0 0 0 0 0 0 0 0 0 0 0 0 0 0 0 0 1 0 0 0 0 0 0 0 0 0 0 0 0 0\n",
      " 0 0 0 0 0 0 0 0 0 0 0 0 0 0 0 0 0 0 0 0 0 0 0 0 0 0 0 0 0 1 0 0]\n"
     ]
    }
   ],
   "source": [
    "posl = []\n",
    "for i in mn:\n",
    "    for lis in l:\n",
    "        if i in lis:\n",
    "            k = 0\n",
    "            for elem in lis:\n",
    "                if elem == i:\n",
    "                    k += 1\n",
    "                else:\n",
    "                    continue\n",
    "            posl.append(k)\n",
    "            #print(k)\n",
    "        else:\n",
    "            posl.append(0)\n",
    "npmas = np.asarray(posl)\n",
    "npmasrs = npmas.reshape(d,n)\n",
    "tm = np.transpose(npmasrs)\n",
    "print (tm.shape)\n",
    "print (tm)\n",
    "print (tm[0])"
   ]
  },
  {
   "cell_type": "code",
   "execution_count": 127,
   "metadata": {},
   "outputs": [
    {
     "name": "stdout",
     "output_type": "stream",
     "text": [
      "6 4\n"
     ]
    }
   ],
   "source": [
    "import scipy.spatial.distance\n",
    "lkosdist = []\n",
    "for stroka in tm:\n",
    "    kosdist = scipy.spatial.distance.cosine(tm[0],stroka)\n",
    "    lkosdist.append(kosdist)\n",
    "#print (lkosdist)\n",
    "sort = sorted(lkosdist)\n",
    "otvet1 = lkosdist.index(sort[1])\n",
    "otvet2 = lkosdist.index(sort[2])\n",
    "print( otvet1, otvet2)"
   ]
  }
 ],
 "metadata": {
  "kernelspec": {
   "display_name": "Python 3",
   "language": "python",
   "name": "python3"
  },
  "language_info": {
   "codemirror_mode": {
    "name": "ipython",
    "version": 3
   },
   "file_extension": ".py",
   "mimetype": "text/x-python",
   "name": "python",
   "nbconvert_exporter": "python",
   "pygments_lexer": "ipython3",
   "version": "3.7.4"
  }
 },
 "nbformat": 4,
 "nbformat_minor": 2
}
